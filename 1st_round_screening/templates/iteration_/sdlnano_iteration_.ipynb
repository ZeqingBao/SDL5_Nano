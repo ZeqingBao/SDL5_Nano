{
 "cells": [
  {
   "cell_type": "code",
   "execution_count": null,
   "metadata": {},
   "outputs": [],
   "source": [
    "import pandas as pd\n",
    "from math import comb\n",
    "from ax.service.ax_client import AxClient\n",
    "import time\n",
    "import sys\n",
    "\n",
    "sys.path.append('../../../0_helper_functions')\n",
    "import sdlnano as sdl\n",
    "import calculation as calc"
   ]
  },
  {
   "cell_type": "code",
   "execution_count": null,
   "metadata": {},
   "outputs": [],
   "source": [
    "# Design space size calculation\n",
    "\n",
    "\n",
    "def calculate_combinations(num_variables, total_sum, step):\n",
    "    steps = int(total_sum / step)\n",
    "    return comb(steps + num_variables - 1, num_variables - 1)\n",
    "\n",
    "# Define parameters\n",
    "step = 0.05\n",
    "total_sum = 1\n",
    "\n",
    "# Calculate combinations for each group\n",
    "count_group1 = calculate_combinations(10, total_sum, step)  # 3 Solid lipids + 3 Polymers + 3 Liquid lipids + 1 Drug\n",
    "count_group2 = calculate_combinations(4, total_sum, step)   # 3 Surfactants + 1 Water\n",
    "\n",
    "# Calculate total combinations\n",
    "total_combinations = count_group1 * count_group2\n",
    "\n",
    "\n",
    "print(\"organic design space size: \", round(count_group1/(1e6),2), 'Million')\n",
    "print(\"aqueous design space size: \", round(count_group2/(1e3),2), 'Thousand')\n",
    "print(\"design space size: \", round(total_combinations/(1e9),2), 'Billion')\n"
   ]
  },
  {
   "cell_type": "markdown",
   "metadata": {},
   "source": [
    "# Check the iteration number"
   ]
  },
  {
   "cell_type": "code",
   "execution_count": null,
   "metadata": {},
   "outputs": [],
   "source": [
    "iteration = sdl.get_iteration_number()\n",
    "print(\"This is the iteration: #\", iteration)"
   ]
  },
  {
   "cell_type": "markdown",
   "metadata": {},
   "source": [
    "# Check the drug"
   ]
  },
  {
   "cell_type": "code",
   "execution_count": null,
   "metadata": {},
   "outputs": [],
   "source": [
    "drug = 'ACE'\n",
    "print(\"This is the drug:\", drug)"
   ]
  },
  {
   "cell_type": "markdown",
   "metadata": {},
   "source": [
    "# Optimizer initialization (N/A)"
   ]
  },
  {
   "cell_type": "markdown",
   "metadata": {},
   "source": [
    "# Generate recommendations"
   ]
  },
  {
   "cell_type": "code",
   "execution_count": null,
   "metadata": {},
   "outputs": [],
   "source": [
    "time_start = time.time()\n",
    "\n",
    "previous_optimizer_file_name = '../iteration_' + str(iteration-1) + '/optimizer/optimizer_load_' + str(iteration-1) + '.json'\n",
    "# generate recomms\n",
    "ax_client_init = AxClient.load_from_json_file(previous_optimizer_file_name)\n",
    "unlabeled_trial, ax_client_design = sdl.generate_trials(ax_client=ax_client_init, num_of_trials = 16, drug = drug, bopt=1)\n",
    "\n",
    "time_end = time.time()\n",
    "\n",
    "print(round((time_end-time_start)/60), 'min')"
   ]
  },
  {
   "cell_type": "code",
   "execution_count": null,
   "metadata": {},
   "outputs": [],
   "source": [
    "unlabeled_trial[['S_1', 'S_2', 'S_3', 'Water']]"
   ]
  },
  {
   "cell_type": "code",
   "execution_count": null,
   "metadata": {},
   "outputs": [],
   "source": [
    "mask = (unlabeled_trial[['S_1', 'S_2', 'S_3', 'Water']] == 0).all(axis=1)\n",
    "\n",
    "# print the rows that are about to change\n",
    "print(\"Rows to be updated (before):\")\n",
    "print(unlabeled_trial.loc[mask])\n",
    "\n",
    "# set Water to 100 on those rows\n",
    "unlabeled_trial.loc[mask, 'Water'] = 100\n",
    "\n",
    "# print the rows after the update\n",
    "print(\"\\nRows after update:\")\n",
    "print(unlabeled_trial.loc[mask])"
   ]
  },
  {
   "cell_type": "code",
   "execution_count": null,
   "metadata": {},
   "outputs": [],
   "source": [
    "unlabeled_trial[['S_1', 'S_2', 'S_3', 'Water']]"
   ]
  },
  {
   "cell_type": "code",
   "execution_count": null,
   "metadata": {},
   "outputs": [],
   "source": [
    "# process the trails into ratios\n",
    "\n",
    "unlabeled_trial_processed = sdl.process_trails(unlabeled_trial)\n",
    "unlabeled_trial_processed.describe()"
   ]
  },
  {
   "cell_type": "code",
   "execution_count": null,
   "metadata": {},
   "outputs": [],
   "source": [
    "unlabeled_trial\n",
    "unlabeled_trial.describe()"
   ]
  },
  {
   "cell_type": "code",
   "execution_count": null,
   "metadata": {},
   "outputs": [],
   "source": [
    "# Convert ratios to volumes\n",
    "\n",
    "transfer = calc.converter(unlabeled_trial_processed)\n",
    "transfer.describe()"
   ]
  },
  {
   "cell_type": "code",
   "execution_count": null,
   "metadata": {},
   "outputs": [],
   "source": [
    "#dead_volume = 3.0 # mL\n",
    "\n",
    "round(transfer[['Drug','SL_1', 'SL_2', 'SL_3', 'LL_1', 'LL_2', 'LL_3', 'P_1', 'P_2', 'P_3', 'S_1', 'S_2', 'S_3', 'Water', 'Solvent']].sum()/1000,1)"
   ]
  },
  {
   "cell_type": "code",
   "execution_count": null,
   "metadata": {},
   "outputs": [],
   "source": [
    "# file path\n",
    "ax_client_design_path = \"optimizer/optimizer_design_\" + str(iteration) + \".json\"\n",
    "\n",
    "unlabeled_trial_path = \"data/unlabeled_\" + str(iteration) + \".xlsx\"\n",
    "\n",
    "unlabeled_trial_processed_path = \"data/unlabeled_processed_\" + str(iteration) + \".xlsx\"\n",
    "\n",
    "transfer_path = 'data/transfer_' + str(iteration) + '.xlsx'\n"
   ]
  },
  {
   "cell_type": "code",
   "execution_count": null,
   "metadata": {},
   "outputs": [],
   "source": [
    "ax_client_design.save_to_json_file(ax_client_design_path)\n",
    "\n",
    "unlabeled_trial.to_excel(unlabeled_trial_path, index=False)\n",
    "\n",
    "unlabeled_trial_processed.to_excel(unlabeled_trial_processed_path, index=False)\n",
    "\n",
    "transfer.to_excel(transfer_path, index = False)"
   ]
  },
  {
   "cell_type": "markdown",
   "metadata": {},
   "source": [
    "# Generate new protocol"
   ]
  },
  {
   "cell_type": "code",
   "execution_count": null,
   "metadata": {},
   "outputs": [],
   "source": [
    "# Paths\n",
    "template_protocol = '../../templates/OT_protocol_template.py'\n",
    "\n",
    "output_script_path_1 = 'protocol/iteration_' + str(iteration) + '_OT_2_protocol_1.py'\n",
    "output_script_path_2 = 'protocol/iteration_' + str(iteration) + '_OT_2_protocol_2.py'\n",
    "\n"
   ]
  },
  {
   "cell_type": "code",
   "execution_count": null,
   "metadata": {},
   "outputs": [],
   "source": [
    "# Update the script with Excel data\n",
    "updated_script = calc.update_transfer_script(template_protocol, transfer_path, output_script_path_1, output_script_path_2) \n"
   ]
  },
  {
   "cell_type": "code",
   "execution_count": null,
   "metadata": {},
   "outputs": [],
   "source": [
    "updated_script"
   ]
  },
  {
   "cell_type": "markdown",
   "metadata": {},
   "source": [
    "# Perform experiment"
   ]
  },
  {
   "cell_type": "markdown",
   "metadata": {},
   "source": [
    "# Results"
   ]
  },
  {
   "cell_type": "code",
   "execution_count": null,
   "metadata": {},
   "outputs": [],
   "source": [
    "results = calc.parameters_and_complexity(iteration)\n",
    "results"
   ]
  },
  {
   "cell_type": "code",
   "execution_count": null,
   "metadata": {},
   "outputs": [],
   "source": [
    "size_raw = calc.size_raw(iteration)\n",
    "size_raw"
   ]
  },
  {
   "cell_type": "code",
   "execution_count": null,
   "metadata": {},
   "outputs": [],
   "source": [
    "size_processed = calc.process_formulations(size_raw)\n",
    "size_processed"
   ]
  },
  {
   "cell_type": "code",
   "execution_count": null,
   "metadata": {},
   "outputs": [],
   "source": [
    "results_final = pd.concat([results, size_processed], axis=1)\n",
    "results_final"
   ]
  },
  {
   "cell_type": "code",
   "execution_count": null,
   "metadata": {},
   "outputs": [],
   "source": [
    "# µg/mL\n",
    "results_final['Solu'] = results_final['Drug'] * 600 / 0.3\n",
    "results_final['Solu_STD'] = 0\n",
    "\n",
    "results_final.loc[results_final['Formulation Quality'] == 0, 'Solu'] = 0\n",
    "results_final"
   ]
  },
  {
   "cell_type": "code",
   "execution_count": null,
   "metadata": {},
   "outputs": [],
   "source": [
    "results_normalized = sdl.normalize(results_final)\n",
    "results_normalized[['Formulation Quality','Size', 'Size_STD', 'Solu', 'Solu_STD', 'PDI', 'PDI_STD','Complexity']]"
   ]
  },
  {
   "cell_type": "code",
   "execution_count": null,
   "metadata": {},
   "outputs": [],
   "source": [
    "results_normalized = sdl.normalize(results_final)\n",
    "results_normalized[['Formulation Quality','Size', 'Size_STD', 'Solu', 'Solu_STD', 'PDI', 'PDI_STD','Complexity']]"
   ]
  },
  {
   "cell_type": "code",
   "execution_count": null,
   "metadata": {},
   "outputs": [],
   "source": [
    "labeled_data_path = 'data/labeled_' + str(iteration) + '.xlsx'\n",
    "labeled_norm_path = 'data/labeled_norm_' + str(iteration) + '.xlsx'\n"
   ]
  },
  {
   "cell_type": "code",
   "execution_count": null,
   "metadata": {},
   "outputs": [],
   "source": [
    "results_final.to_excel(labeled_data_path, index=False)\n",
    "results_normalized.to_excel(labeled_norm_path, index=False)"
   ]
  },
  {
   "cell_type": "markdown",
   "metadata": {},
   "source": [
    "# Load the labeled data to update the optimizer"
   ]
  },
  {
   "cell_type": "code",
   "execution_count": null,
   "metadata": {},
   "outputs": [],
   "source": [
    "labeled_norm = pd.read_excel(labeled_norm_path)\n",
    "labeled_norm.head()"
   ]
  },
  {
   "cell_type": "code",
   "execution_count": null,
   "metadata": {},
   "outputs": [],
   "source": [
    "ax_client_design = AxClient.load_from_json_file(ax_client_design_path)\n"
   ]
  },
  {
   "cell_type": "code",
   "execution_count": null,
   "metadata": {},
   "outputs": [],
   "source": [
    "loaded_optimizer_path = \"optimizer/optimizer_load_\" + str(iteration) + \".json\""
   ]
  },
  {
   "cell_type": "code",
   "execution_count": null,
   "metadata": {},
   "outputs": [],
   "source": [
    "loaded_ax_client = sdl.load_labeled_data(ax_client_design, labeled_norm_path)\n",
    "loaded_ax_client.save_to_json_file(loaded_optimizer_path)"
   ]
  },
  {
   "cell_type": "code",
   "execution_count": null,
   "metadata": {},
   "outputs": [],
   "source": []
  },
  {
   "cell_type": "code",
   "execution_count": null,
   "metadata": {},
   "outputs": [],
   "source": []
  },
  {
   "cell_type": "code",
   "execution_count": null,
   "metadata": {},
   "outputs": [],
   "source": []
  }
 ],
 "metadata": {
  "kernelspec": {
   "display_name": "sdlnano_plot",
   "language": "python",
   "name": "python3"
  },
  "language_info": {
   "codemirror_mode": {
    "name": "ipython",
    "version": 3
   },
   "file_extension": ".py",
   "mimetype": "text/x-python",
   "name": "python",
   "nbconvert_exporter": "python",
   "pygments_lexer": "ipython3",
   "version": "3.11.12"
  }
 },
 "nbformat": 4,
 "nbformat_minor": 2
}
